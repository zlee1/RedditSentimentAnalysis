{
 "cells": [
  {
   "cell_type": "code",
   "execution_count": 1,
   "id": "fitting-tuner",
   "metadata": {},
   "outputs": [
    {
     "name": "stdout",
     "output_type": "stream",
     "text": [
      "Collecting praw\n",
      "  Downloading praw-7.5.0-py3-none-any.whl (176 kB)\n",
      "Collecting prawcore<3,>=2.1\n",
      "  Downloading prawcore-2.3.0-py3-none-any.whl (16 kB)\n",
      "Requirement already satisfied: requests<3.0,>=2.6.0 in c:\\users\\zdude\\anaconda3\\lib\\site-packages (from prawcore<3,>=2.1->praw) (2.25.1)\n",
      "Requirement already satisfied: urllib3<1.27,>=1.21.1 in c:\\users\\zdude\\anaconda3\\lib\\site-packages (from requests<3.0,>=2.6.0->prawcore<3,>=2.1->praw) (1.26.3)\n",
      "Requirement already satisfied: certifi>=2017.4.17 in c:\\users\\zdude\\anaconda3\\lib\\site-packages (from requests<3.0,>=2.6.0->prawcore<3,>=2.1->praw) (2020.12.5)\n",
      "Requirement already satisfied: idna<3,>=2.5 in c:\\users\\zdude\\anaconda3\\lib\\site-packages (from requests<3.0,>=2.6.0->prawcore<3,>=2.1->praw) (2.10)\n",
      "Requirement already satisfied: chardet<5,>=3.0.2 in c:\\users\\zdude\\anaconda3\\lib\\site-packages (from requests<3.0,>=2.6.0->prawcore<3,>=2.1->praw) (4.0.0)\n",
      "Collecting update-checker>=0.18\n",
      "  Downloading update_checker-0.18.0-py3-none-any.whl (7.0 kB)\n",
      "Collecting websocket-client>=0.54.0\n",
      "  Downloading websocket_client-1.3.2-py3-none-any.whl (54 kB)\n",
      "Installing collected packages: websocket-client, update-checker, prawcore, praw\n",
      "Successfully installed praw-7.5.0 prawcore-2.3.0 update-checker-0.18.0 websocket-client-1.3.2\n"
     ]
    }
   ],
   "source": [
    "!pip install praw"
   ]
  },
  {
   "cell_type": "code",
   "execution_count": 4,
   "id": "nominated-charge",
   "metadata": {},
   "outputs": [],
   "source": [
    "import praw\n",
    "import json\n",
    "from datetime import datetime"
   ]
  },
  {
   "cell_type": "code",
   "execution_count": 9,
   "id": "refined-stable",
   "metadata": {},
   "outputs": [],
   "source": [
    "with open('info.json') as f:\n",
    "     info = json.load(f)\n",
    "        \n",
    "info = dict(info)"
   ]
  },
  {
   "cell_type": "code",
   "execution_count": 12,
   "id": "laughing-savannah",
   "metadata": {},
   "outputs": [],
   "source": [
    "reddit = praw.Reddit(client_id=info[\"client_id\"], user_agent=info[\"user_agent\"], client_secret=info[\"client_secret\"])"
   ]
  },
  {
   "cell_type": "code",
   "execution_count": 98,
   "id": "involved-canvas",
   "metadata": {},
   "outputs": [
    {
     "name": "stdout",
     "output_type": "stream",
     "text": [
      "stocks\n",
      "2022-04-05 07:49:22\n",
      "[Twitter CEO Parag Agrawal] I’m excited to share that we’re appointing @elonmusk to our board!\n",
      "0.91\n",
      "\n",
      "StockMarket\n",
      "2022-04-05 09:00:36\n",
      "Elons Twitter stake, for comparison. Will TWTR finally turn over a new leaf?\n",
      "0.94\n",
      "\n",
      "StockMarket\n",
      "2022-04-05 00:40:22\n",
      "U.S. stops Russian bond payments in bid to raise pressure on Moscow\n",
      "0.97\n",
      "\n",
      "stocks\n",
      "2022-04-04 18:53:07\n",
      "Hertz to buy up to 65,000 electric vehicles from Tesla rival Polestar\n",
      "0.95\n",
      "\n",
      "StockMarket\n",
      "2022-04-05 04:51:21\n",
      "Airbnb suspends operations in Russia and Belarus\n",
      "0.94\n",
      "\n",
      "StockMarket\n",
      "2022-04-04 18:51:57\n",
      "Market close - Monday, April 4, 2022 🟢\n",
      "0.98\n",
      "\n",
      "stocks\n",
      "2022-04-04 22:55:42\n",
      "How did Elon Musk by almost 10 million shares of twitter on 3/14, but the price goes up today?\n",
      "0.88\n",
      "\n",
      "StockMarket\n",
      "2022-04-05 04:46:57\n",
      "Do gold mining stocks offer same gains as holding physical gold in a portfolio?\n",
      "0.99\n",
      "\n",
      "StockMarket\n",
      "2022-04-05 11:28:20\n",
      "GameStop to seek stock split approval\n",
      "0.92\n",
      "\n",
      "StockMarket\n",
      "2022-04-05 08:39:01\n",
      "Stocks dip as investors monitor recession odds, await clarity from Fed\n",
      "0.86\n",
      "\n"
     ]
    }
   ],
   "source": [
    "dir_i = None\n",
    "for i in reddit.subreddit(\"stocks+stockmarket\").hot(limit=10):\n",
    "    dir_i = dir(i)\n",
    "    print(i.subreddit)\n",
    "    print(datetime.fromtimestamp(i.created_utc))\n",
    "    print(i.title)\n",
    "    print(i.upvote_ratio)\n",
    "    print()"
   ]
  }
 ],
 "metadata": {
  "kernelspec": {
   "display_name": "Python 3",
   "language": "python",
   "name": "python3"
  },
  "language_info": {
   "codemirror_mode": {
    "name": "ipython",
    "version": 3
   },
   "file_extension": ".py",
   "mimetype": "text/x-python",
   "name": "python",
   "nbconvert_exporter": "python",
   "pygments_lexer": "ipython3",
   "version": "3.8.13"
  }
 },
 "nbformat": 4,
 "nbformat_minor": 5
}
