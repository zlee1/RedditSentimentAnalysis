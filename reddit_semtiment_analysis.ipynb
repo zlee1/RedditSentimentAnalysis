{
 "cells": [
  {
   "cell_type": "code",
   "execution_count": 1,
   "id": "fitting-tuner",
   "metadata": {},
   "outputs": [],
   "source": [
    "# Installing dependencies\n",
    "#!pip install praw\n",
    "#!pip install psaw\n",
    "#!pip install yfinance"
   ]
  },
  {
   "cell_type": "code",
   "execution_count": 2,
   "id": "nominated-charge",
   "metadata": {},
   "outputs": [],
   "source": [
    "import praw\n",
    "from psaw import PushshiftAPI\n",
    "import json\n",
    "import pandas as pd\n",
    "import yfinance as yf\n",
    "from datetime import datetime, timedelta\n",
    "import traceback\n",
    "import tensorflow as tf\n",
    "import numpy as np\n",
    "from tensorflow.keras.preprocessing.text import Tokenizer\n",
    "from tensorflow.keras.preprocessing.sequence import pad_sequences\n",
    "import pickle\n",
    "import os\n",
    "\n",
    "# Suppress warning messages\n",
    "import warnings\n",
    "#warnings.filterwarnings('ignore')"
   ]
  },
  {
   "cell_type": "code",
   "execution_count": 3,
   "id": "refined-stable",
   "metadata": {},
   "outputs": [],
   "source": [
    "# Load client_id, secret_id, and user_agent\n",
    "with open('info.json') as f:\n",
    "     info = json.load(f)\n",
    "        \n",
    "info = dict(info)"
   ]
  },
  {
   "cell_type": "code",
   "execution_count": 4,
   "id": "laughing-savannah",
   "metadata": {},
   "outputs": [],
   "source": [
    "# Initialize Reddit and PushshiftAPI instances\n",
    "reddit = praw.Reddit(client_id=info[\"client_id\"], user_agent=info[\"user_agent\"], client_secret=info[\"client_secret\"])\n",
    "api = PushshiftAPI(reddit)"
   ]
  },
  {
   "cell_type": "code",
   "execution_count": 5,
   "id": "e70e2319",
   "metadata": {},
   "outputs": [],
   "source": [
    "# Store results of a search in a DataFrame\n",
    "\"\"\"\n",
    "subm_dicts = [{k:getattr(praw_obj, k) for k in vars(praw_obj)} for praw_obj in api.search_submissions(subreddit='stocks', q=\"TWTR\", filter=['url','author', 'title', 'subreddit'], limit=100)]\n",
    "df = pd.DataFrame(subm_dicts)\n",
    "df\n",
    "\"\"\"\n",
    "_ = None"
   ]
  },
  {
   "cell_type": "code",
   "execution_count": 6,
   "id": "5295a6c4",
   "metadata": {},
   "outputs": [],
   "source": [
    "# Get historical stock data for a ticker\n",
    "#twtr = yf.download('TWTR', progress=True)\n",
    "#twtr"
   ]
  },
  {
   "cell_type": "markdown",
   "id": "782cee07",
   "metadata": {},
   "source": [
    "## Processing Tickers\n",
    "\n",
    "This initial thought process is not great. I decided that looking for specific words wwould not be a good idea, as it takes much of the context out of the comment. (Something that briefly mentions TSLA, but is actually talking about how great MSFT is would be useless in predicting TSLA stock)"
   ]
  },
  {
   "cell_type": "code",
   "execution_count": 7,
   "id": "bc5ce231",
   "metadata": {},
   "outputs": [],
   "source": [
    "# At close, calculate the real and percent change since last close\n",
    "def get_diff(ticker_data):\n",
    "    df = ticker_data.copy()\n",
    "    real = []\n",
    "    percent = []\n",
    "    for index, row in df.reset_index().iterrows():\n",
    "        if(index == 0):\n",
    "            real.append(0)\n",
    "            percent.append(0)\n",
    "        else:\n",
    "            real.append(row[\"Close\"]-df.iloc[index-1][\"Close\"])\n",
    "            percent.append(real[-1]/df.iloc[index-1][\"Close\"])\n",
    "    return real, percent\n",
    "\n",
    "# Get the reddit posts that mention a certain ticker n days before a large change in stock price\n",
    "def get_pre_change_posts(ticker, ticker_gain, days=1, limit=1000, subreddit=\"stocks,stockmarket,stocksandtrading,daytrading,investing,stocks_picks,stockstobuytoday\"):\n",
    "    df = None\n",
    "    for index, row in ticker_gain.iterrows():\n",
    "        start_date = datetime.fromtimestamp(row[\"Date\"].timestamp()) + timedelta(hours=6, days=-days)\n",
    "        end_date = datetime.fromtimestamp(row[\"Date\"].timestamp()) + timedelta(hours=6)\n",
    "        \n",
    "        # TODO: Check whether comments would be better than submissions\n",
    "        \n",
    "        submissions = api.search_comments(after=start_date, before=end_date, q=ticker, subreddit=subreddit, filter=['url','author', 'title', 'subreddit'], limit=limit)\n",
    "        if(df is None):\n",
    "            df = pd.DataFrame([{k:getattr(praw_obj, k) for k in vars(praw_obj)} for praw_obj in submissions])\n",
    "        else:\n",
    "            df = df.append([{k:getattr(praw_obj, k) for k in vars(praw_obj)} for praw_obj in submissions], ignore_index=True)\n",
    "    return df\n",
    "\n",
    "def word_counts(df, column=\"body\", min_letters=3):\n",
    "    counts = {}\n",
    "    for i in list(df[column]):\n",
    "        for j in i.split(\" \"):\n",
    "            j = ''.join(k for k in j if k.isalnum())\n",
    "            # Exclude words that are likely tickers\n",
    "            if(j == j.upper() and len(j) > 1 and len(j) <= 5):\n",
    "                pass\n",
    "            elif(len(j) < 3):\n",
    "                pass\n",
    "            elif(j not in counts.keys()):\n",
    "                counts[j.lower()] = 1\n",
    "            else:\n",
    "                counts.update({j.lower():counts.get(j.lower())+1})\n",
    "    return counts\n",
    "\n",
    "def remove_shared_keys(dict_a, dict_b, cutoff=2):\n",
    "    a = dict_a.copy()\n",
    "    b = dict_b.copy()\n",
    "    \n",
    "    rm_a = []\n",
    "    rm_b = []\n",
    "    for i in a:\n",
    "        if(i in b):\n",
    "            if(b.get(i) > 2*a.get(i)):\n",
    "                rm_a.append(i)\n",
    "            elif(b.get(i) < 2*a.get(i)):\n",
    "                rm_b.append(i)\n",
    "            else:\n",
    "                rm_a.append(i)\n",
    "                rm_b.append(i)\n",
    "    for i in rm_a:\n",
    "        a.pop(i)\n",
    "    for i in rm_b:\n",
    "        b.pop(i)\n",
    "    return a, b\n",
    "\n",
    "def remove_infrequent_words(dict_a, min_count=2):\n",
    "    d = dict_a.copy()\n",
    "    \n",
    "    to_remove = []\n",
    "    for i, x in d.items():\n",
    "        if(x < min_count):\n",
    "            to_remove.append(i)\n",
    "            \n",
    "    for i in to_remove:\n",
    "        d.pop(i)\n",
    "        \n",
    "    return d\n",
    "\n",
    "# Generate information for a given ticker\n",
    "def process_ticker(ticker, gain_cutoff=0.05, loss_cutoff=0.05, limit=100, days=1):\n",
    "    try:\n",
    "        ticker_data = yf.download(ticker, progress=False)\n",
    "        ticker_data.reset_index(inplace=True)\n",
    "        real, percent = get_diff(ticker_data)\n",
    "\n",
    "        ticker_data[\"Real_Change\"] = real\n",
    "        ticker_data[\"Percent_Change\"] = percent\n",
    "\n",
    "        ticker_gain = ticker_data[ticker_data[\"Percent_Change\"] > gain_cutoff]\n",
    "        ticker_loss = ticker_data[ticker_data[\"Percent_Change\"] < -loss_cutoff]\n",
    "\n",
    "        pre_gain = get_pre_change_posts(ticker, ticker_gain, days, limit)\n",
    "        pre_loss = get_pre_change_posts(ticker, ticker_loss, days, limit)\n",
    "\n",
    "        gain_wc = dict(sorted(word_counts(pre_gain).items(), key=lambda x: x[1], reverse=True))\n",
    "        loss_wc = dict(sorted(word_counts(pre_loss).items(), key=lambda x: x[1], reverse=True))\n",
    "\n",
    "        gain_freq = remove_infrequent_words(gain_wc)\n",
    "        loss_freq = remove_infrequent_words(loss_wc)\n",
    "\n",
    "        gain_only, loss_only = remove_shared_keys(gain_freq, loss_freq)\n",
    "    except Exception as e:\n",
    "        print(e)\n",
    "        return {}, {}\n",
    "    \n",
    "    return gain_only, loss_only\n",
    "\n",
    "#gain_only, loss_only = process_ticker(\"FB\")\n",
    "\n",
    "#gain_only\n",
    "\n",
    "#loss_only\n",
    "\"\"\"\n",
    "all_gain = []\n",
    "all_loss = []\n",
    "for ticker in [\"TWTR\", \"FB\", \"MSFT\", \"ADBE\", \"AAPL\", \"SNAP\", \"AMZN\", \"NCL\", \"DIS\", \"NFLX\"]:\n",
    "    gain_only, loss_only = process_ticker(ticker)\n",
    "    all_gain.append(gain_only)\n",
    "    all_loss.append(loss_only)\n",
    "    print(ticker)\n",
    "\n",
    "def combine_dict_list(list_of_dicts):\n",
    "    single_dict = {}\n",
    "    for d in list_of_dicts:\n",
    "        for i in d:\n",
    "            if(i not in single_dict):\n",
    "                single_dict[i] = d.get(i)\n",
    "            else:\n",
    "                single_dict.update({i:single_dict.get(i)+d.get(i)})\n",
    "    return dict(sorted(single_dict.items(), key=lambda x: x[1], reverse=True))\n",
    "\n",
    "gain, loss = remove_shared_keys(combine_dict_list(all_gain), combine_dict_list(all_loss))\n",
    "\n",
    "gain\n",
    "\n",
    "loss\"\"\"\n",
    "_ = None # This is just to stop automatic output of block commented code"
   ]
  },
  {
   "cell_type": "markdown",
   "id": "e353ac1d",
   "metadata": {},
   "source": [
    "## Better Method (Probably)\n",
    "\n",
    "Instead of looking at posts/comments the day before and predicting whether the next day will close higher, this will be looking at the posts/comments from the previous day's close to the current day's open and predicting whether the close price will be higher than the open price. "
   ]
  },
  {
   "cell_type": "code",
   "execution_count": 8,
   "id": "82e3f535",
   "metadata": {},
   "outputs": [],
   "source": [
    "def daily_change(data):\n",
    "    change = []\n",
    "    up = []\n",
    "    for index, row in data.iterrows():\n",
    "        change.append(row[\"Close\"]-row[\"Open\"])\n",
    "        up.append(int(change[-1] > 0))\n",
    "    return change, up"
   ]
  },
  {
   "cell_type": "code",
   "execution_count": 9,
   "id": "f8123782",
   "metadata": {},
   "outputs": [],
   "source": [
    "#change, up = daily_change(twtr)"
   ]
  },
  {
   "cell_type": "code",
   "execution_count": 10,
   "id": "2de5a967",
   "metadata": {},
   "outputs": [],
   "source": [
    "#twtr[\"Daily_Change\"] = change\n",
    "#twtr[\"Positive_Change\"] = up"
   ]
  },
  {
   "cell_type": "code",
   "execution_count": 11,
   "id": "d819a78d",
   "metadata": {},
   "outputs": [],
   "source": [
    "#twtr = twtr.sample(frac=1)"
   ]
  },
  {
   "cell_type": "code",
   "execution_count": 12,
   "id": "1c3f798a",
   "metadata": {},
   "outputs": [],
   "source": [
    "#twtr"
   ]
  },
  {
   "cell_type": "code",
   "execution_count": 13,
   "id": "82049eca",
   "metadata": {},
   "outputs": [],
   "source": [
    "def get_pre_open_content(data, ticker, start_hour_diff=0, subreddit=\"stocks,stockmarket,stocksandtrading,daytrading,investing,stocks_picks,stockstobuytoday\", limit=100):\n",
    "    new_col = []\n",
    "    for index, row in data.iterrows():\n",
    "        end_time = row.name + timedelta(hours=9, minutes=30)\n",
    "        start_time = end_time - timedelta(hours=17, minutes=30)\n",
    "        content = []\n",
    "        for i in api.search_comments(after=start_time, before=end_time, subreddit=subreddit, q=ticker, filter=['url','author', 'title', 'subreddit'], limit=limit):\n",
    "            for j in i.body.split(\".\"):\n",
    "                for k in j.split(\"\\n\"):\n",
    "                    content.append(k)\n",
    "        new_col.append(content)\n",
    "    \n",
    "    return new_col"
   ]
  },
  {
   "cell_type": "code",
   "execution_count": 14,
   "id": "03f54ca3",
   "metadata": {},
   "outputs": [],
   "source": [
    "# This takes quite a while to run. Looking into how to speed it up. \n",
    "#twtr_full = twtr.copy()\n",
    "#twtr = twtr.head(10)\n",
    "#twtr[\"Comments\"] = get_pre_open_content(twtr, \"TWTR\", limit=100)"
   ]
  },
  {
   "cell_type": "code",
   "execution_count": 15,
   "id": "f4435fe3",
   "metadata": {},
   "outputs": [],
   "source": [
    "#twtr"
   ]
  },
  {
   "cell_type": "markdown",
   "id": "4d761d1c",
   "metadata": {},
   "source": [
    "### Preparing text for analysis"
   ]
  },
  {
   "cell_type": "code",
   "execution_count": 16,
   "id": "cc2639d4",
   "metadata": {},
   "outputs": [],
   "source": [
    "def split_sequences(data):\n",
    "    dates = []\n",
    "    seqs = []\n",
    "    vals = []\n",
    "    \n",
    "    for index, row in data.iterrows():\n",
    "        for comment in row[\"Comment_Sequences\"]:\n",
    "            if(comment != []):\n",
    "                dates.append(row.name)\n",
    "                seqs.append(list(comment))\n",
    "                vals.append(row[\"Positive_Change\"])\n",
    "    return pd.DataFrame({\"Date\":dates, \"Sequence\":seqs, \"Positive_Change\":vals})"
   ]
  },
  {
   "cell_type": "code",
   "execution_count": 55,
   "id": "b7e456e7",
   "metadata": {},
   "outputs": [],
   "source": [
    "def prepare_text(data, train_proportion = 0.8, max_len=50, tokenizer=None):\n",
    "    if(tokenizer is None):\n",
    "        tokenizer = Tokenizer(oov_token = \"<OOV>\")\n",
    "    \n",
    "    train = data[:int(data.shape[0]*train_proportion)]\n",
    "    test = data[int(data.shape[0]*train_proportion):]\n",
    "    \n",
    "    for comment in train.Comments:\n",
    "        tokenizer.fit_on_texts(comment)\n",
    "        \n",
    "    seqs = []\n",
    "    for comment in train.Comments:\n",
    "        seqs.append(tokenizer.texts_to_sequences(comment))\n",
    "    \n",
    "    train[\"Comment_Sequences\"] = seqs\n",
    "    \n",
    "    train = split_sequences(train)\n",
    "        \n",
    "    train_padded = pad_sequences(train[\"Sequence\"], padding=\"post\", truncating=\"post\", maxlen=max_len)\n",
    "\n",
    "    for comment in test.Comments:\n",
    "        tokenizer.fit_on_texts(comment)\n",
    "        \n",
    "    seqs = []\n",
    "    for comment in test.Comments:\n",
    "        seqs.append(tokenizer.texts_to_sequences(comment))\n",
    "    \n",
    "    test[\"Comment_Sequences\"] = seqs\n",
    "    \n",
    "    test = split_sequences(test)\n",
    "        \n",
    "    test_padded = pad_sequences(test[\"Sequence\"], padding=\"post\", truncating=\"post\", maxlen=max_len)\n",
    "    \n",
    "    return train, train_padded, test, test_padded, tokenizer"
   ]
  },
  {
   "cell_type": "code",
   "execution_count": 56,
   "id": "2df08539",
   "metadata": {},
   "outputs": [],
   "source": [
    "def generate_ticker_data(tickers = None):\n",
    "    if(tickers is None): return None\n",
    "    \n",
    "    cur_tokenizer = None\n",
    "    \n",
    "    for ticker in tickers:\n",
    "        if(f\"{ticker}.pkl\" in os.listdir('data/')):\n",
    "            continue\n",
    "        \n",
    "        data = yf.download(ticker)\n",
    "        change, up = daily_change(data)\n",
    "        data[\"Daily_Change\"] = change\n",
    "        data[\"Positive_Change\"] = up\n",
    "        data = data.sample(frac=1)\n",
    "        \n",
    "        data[\"Comments\"] = get_pre_open_content(data, ticker, limit=100)\n",
    "        \n",
    "        train, train_padded, test, test_padded, cur_tokenizer = prepare_text(data, tokenizer=cur_tokenizer)\n",
    "        \n",
    "        with open(f\"data/{ticker}.pkl\", \"wb+\") as f:\n",
    "            pickle.dump((train, train_padded, test, test_padded), f)\n",
    "            \n",
    "        used_tickers = \"_\".join(tickers[:tickers.index(ticker)+1])\n",
    "        \n",
    "        with open(f\"data/tokenizer/tokenizer_{used_tickers}.pkl\", \"wb+\") as f:\n",
    "            pickle.dump(tokenizer, f)"
   ]
  },
  {
   "cell_type": "code",
   "execution_count": 63,
   "id": "7aa99d76",
   "metadata": {},
   "outputs": [],
   "source": [
    "#generate_ticker_data([\"TWTR\"])"
   ]
  },
  {
   "cell_type": "code",
   "execution_count": 64,
   "id": "acd0d181",
   "metadata": {},
   "outputs": [],
   "source": [
    "#with open(\"data/TWTR.pkl\", \"rb\") as f:\n",
    "    #train, train_padded, test, test_padded = pickle.load(f)"
   ]
  },
  {
   "cell_type": "code",
   "execution_count": 65,
   "id": "b0157875",
   "metadata": {},
   "outputs": [],
   "source": [
    "#type(train_padded[0][0])"
   ]
  },
  {
   "cell_type": "markdown",
   "id": "98887508",
   "metadata": {},
   "source": [
    "## Loading all ticker data from pickle files"
   ]
  },
  {
   "cell_type": "code",
   "execution_count": 98,
   "id": "7cb611d4",
   "metadata": {},
   "outputs": [],
   "source": [
    "with open(\"data/tokenizer/tokenizer.pkl\", \"rb\") as f:\n",
    "    tokenizer = pickle.load(f)\n",
    "\n",
    "all_data = []\n",
    "for file in os.listdir(\"data\"):\n",
    "    if(file != \"tokenizer\"):\n",
    "        with open(f\"data/{file}\", \"rb\") as f:\n",
    "            all_data.append(pickle.load(f))"
   ]
  },
  {
   "cell_type": "code",
   "execution_count": 99,
   "id": "b566f1a1",
   "metadata": {},
   "outputs": [],
   "source": [
    "# Combine all sequences\n",
    "X_train = None\n",
    "X_test = None\n",
    "for i in all_data:\n",
    "    if(X_train is None):\n",
    "        X_train = i[1]\n",
    "        X_test = i[3]\n",
    "    else:\n",
    "        X_train = np.vstack((X_train, i[1]))\n",
    "        X_test = np.vstack((X_test, i[3]))\n",
    "X_train = np.array(X_train)\n",
    "X_test = np.array(X_test)"
   ]
  },
  {
   "cell_type": "code",
   "execution_count": 100,
   "id": "127fd3ec",
   "metadata": {},
   "outputs": [
    {
     "data": {
      "text/plain": [
       "(915501, 50)"
      ]
     },
     "execution_count": 100,
     "metadata": {},
     "output_type": "execute_result"
    }
   ],
   "source": [
    "X_train.shape"
   ]
  },
  {
   "cell_type": "code",
   "execution_count": 101,
   "id": "b5d07fec",
   "metadata": {},
   "outputs": [
    {
     "data": {
      "text/plain": [
       "(229221, 50)"
      ]
     },
     "execution_count": 101,
     "metadata": {},
     "output_type": "execute_result"
    }
   ],
   "source": [
    "X_test.shape"
   ]
  },
  {
   "cell_type": "code",
   "execution_count": 102,
   "id": "0b06dbd1",
   "metadata": {},
   "outputs": [],
   "source": [
    "unioned_train_data = None\n",
    "unioned_test_data = None\n",
    "for i in all_data:\n",
    "    if(unioned_train_data is None):\n",
    "        unioned_train_data = i[0]\n",
    "        unioned_test_data = i[2]\n",
    "    else:\n",
    "        unioned_train_data = pd.concat([unioned_train_data, i[0]], ignore_index=True)\n",
    "        unioned_test_data = pd.concat([unioned_test_data, i[2]], ignore_index=True)\n",
    "y_train = unioned_train_data[\"Positive_Change\"]\n",
    "y_test = unioned_test_data[\"Positive_Change\"]"
   ]
  },
  {
   "cell_type": "code",
   "execution_count": 103,
   "id": "9caca4a1",
   "metadata": {},
   "outputs": [
    {
     "data": {
      "text/plain": [
       "915501"
      ]
     },
     "execution_count": 103,
     "metadata": {},
     "output_type": "execute_result"
    }
   ],
   "source": [
    "len(y_train)"
   ]
  },
  {
   "cell_type": "code",
   "execution_count": 104,
   "id": "16271c64",
   "metadata": {},
   "outputs": [
    {
     "data": {
      "text/plain": [
       "229221"
      ]
     },
     "execution_count": 104,
     "metadata": {},
     "output_type": "execute_result"
    }
   ],
   "source": [
    "len(y_test)"
   ]
  },
  {
   "cell_type": "markdown",
   "id": "bee11468",
   "metadata": {},
   "source": [
    "### Creating TensorFlow Network"
   ]
  },
  {
   "cell_type": "code",
   "execution_count": 105,
   "id": "1deeed56",
   "metadata": {},
   "outputs": [],
   "source": [
    "model = tf.keras.models.Sequential()\n",
    "model.add(tf.keras.layers.Embedding(len(tokenizer.word_index)+1, 16, input_length=len(X_train[0])))\n",
    "model.add(tf.keras.layers.GlobalAveragePooling1D())\n",
    "model.add(tf.keras.layers.Dense(24, activation='relu'))\n",
    "model.add(tf.keras.layers.Dense(48, activation='relu'))\n",
    "model.add(tf.keras.layers.Dense(1, activation='sigmoid'))\n",
    "\n",
    "model.compile(loss='binary_crossentropy',optimizer='adam',metrics=['accuracy'])"
   ]
  },
  {
   "cell_type": "code",
   "execution_count": 106,
   "id": "f08b7286",
   "metadata": {},
   "outputs": [
    {
     "name": "stdout",
     "output_type": "stream",
     "text": [
      "Model: \"sequential_5\"\n",
      "_________________________________________________________________\n",
      " Layer (type)                Output Shape              Param #   \n",
      "=================================================================\n",
      " embedding_4 (Embedding)     (None, 50, 16)            1403056   \n",
      "                                                                 \n",
      " global_average_pooling1d_4   (None, 16)               0         \n",
      " (GlobalAveragePooling1D)                                        \n",
      "                                                                 \n",
      " dense_12 (Dense)            (None, 24)                408       \n",
      "                                                                 \n",
      " dense_13 (Dense)            (None, 48)                1200      \n",
      "                                                                 \n",
      " dense_14 (Dense)            (None, 1)                 49        \n",
      "                                                                 \n",
      "=================================================================\n",
      "Total params: 1,404,713\n",
      "Trainable params: 1,404,713\n",
      "Non-trainable params: 0\n",
      "_________________________________________________________________\n"
     ]
    }
   ],
   "source": [
    "model.summary()"
   ]
  },
  {
   "cell_type": "code",
   "execution_count": 107,
   "id": "6811f657",
   "metadata": {
    "scrolled": false
   },
   "outputs": [
    {
     "name": "stdout",
     "output_type": "stream",
     "text": [
      "Epoch 1/100\n",
      "WARNING:tensorflow:AutoGraph could not transform <function Model.make_train_function.<locals>.train_function at 0x0000024D3BBAB670> and will run it as-is.\n",
      "Please report this to the TensorFlow team. When filing the bug, set the verbosity to 10 (on Linux, `export AUTOGRAPH_VERBOSITY=10`) and attach the full output.\n",
      "Cause: module 'gast' has no attribute 'Constant'\n",
      "To silence this warning, decorate the function with @tf.autograph.experimental.do_not_convert\n",
      "WARNING: AutoGraph could not transform <function Model.make_train_function.<locals>.train_function at 0x0000024D3BBAB670> and will run it as-is.\n",
      "Please report this to the TensorFlow team. When filing the bug, set the verbosity to 10 (on Linux, `export AUTOGRAPH_VERBOSITY=10`) and attach the full output.\n",
      "Cause: module 'gast' has no attribute 'Constant'\n",
      "To silence this warning, decorate the function with @tf.autograph.experimental.do_not_convert\n",
      "  229/28610 [..............................] - ETA: 5:47 - loss: 0.6928 - accuracy: 0.5123"
     ]
    },
    {
     "ename": "KeyboardInterrupt",
     "evalue": "",
     "output_type": "error",
     "traceback": [
      "\u001b[1;31m---------------------------------------------------------------------------\u001b[0m",
      "\u001b[1;31mKeyboardInterrupt\u001b[0m                         Traceback (most recent call last)",
      "Input \u001b[1;32mIn [107]\u001b[0m, in \u001b[0;36m<cell line: 1>\u001b[1;34m()\u001b[0m\n\u001b[1;32m----> 1\u001b[0m \u001b[43mmodel\u001b[49m\u001b[38;5;241;43m.\u001b[39;49m\u001b[43mfit\u001b[49m\u001b[43m(\u001b[49m\u001b[43mX_train\u001b[49m\u001b[43m,\u001b[49m\u001b[43m \u001b[49m\u001b[43my_train\u001b[49m\u001b[43m,\u001b[49m\u001b[43m \u001b[49m\u001b[43mepochs\u001b[49m\u001b[38;5;241;43m=\u001b[39;49m\u001b[38;5;241;43m100\u001b[39;49m\u001b[43m,\u001b[49m\u001b[43m \u001b[49m\u001b[43mvalidation_data\u001b[49m\u001b[38;5;241;43m=\u001b[39;49m\u001b[43m(\u001b[49m\u001b[43mX_test\u001b[49m\u001b[43m,\u001b[49m\u001b[43m \u001b[49m\u001b[43my_test\u001b[49m\u001b[43m)\u001b[49m\u001b[43m)\u001b[49m\n",
      "File \u001b[1;32m~\\Anaconda3\\lib\\site-packages\\keras\\utils\\traceback_utils.py:64\u001b[0m, in \u001b[0;36mfilter_traceback.<locals>.error_handler\u001b[1;34m(*args, **kwargs)\u001b[0m\n\u001b[0;32m     62\u001b[0m filtered_tb \u001b[38;5;241m=\u001b[39m \u001b[38;5;28;01mNone\u001b[39;00m\n\u001b[0;32m     63\u001b[0m \u001b[38;5;28;01mtry\u001b[39;00m:\n\u001b[1;32m---> 64\u001b[0m   \u001b[38;5;28;01mreturn\u001b[39;00m \u001b[43mfn\u001b[49m\u001b[43m(\u001b[49m\u001b[38;5;241;43m*\u001b[39;49m\u001b[43margs\u001b[49m\u001b[43m,\u001b[49m\u001b[43m \u001b[49m\u001b[38;5;241;43m*\u001b[39;49m\u001b[38;5;241;43m*\u001b[39;49m\u001b[43mkwargs\u001b[49m\u001b[43m)\u001b[49m\n\u001b[0;32m     65\u001b[0m \u001b[38;5;28;01mexcept\u001b[39;00m \u001b[38;5;167;01mException\u001b[39;00m \u001b[38;5;28;01mas\u001b[39;00m e:  \u001b[38;5;66;03m# pylint: disable=broad-except\u001b[39;00m\n\u001b[0;32m     66\u001b[0m   filtered_tb \u001b[38;5;241m=\u001b[39m _process_traceback_frames(e\u001b[38;5;241m.\u001b[39m__traceback__)\n",
      "File \u001b[1;32m~\\Anaconda3\\lib\\site-packages\\keras\\engine\\training.py:1384\u001b[0m, in \u001b[0;36mModel.fit\u001b[1;34m(self, x, y, batch_size, epochs, verbose, callbacks, validation_split, validation_data, shuffle, class_weight, sample_weight, initial_epoch, steps_per_epoch, validation_steps, validation_batch_size, validation_freq, max_queue_size, workers, use_multiprocessing)\u001b[0m\n\u001b[0;32m   1377\u001b[0m \u001b[38;5;28;01mwith\u001b[39;00m tf\u001b[38;5;241m.\u001b[39mprofiler\u001b[38;5;241m.\u001b[39mexperimental\u001b[38;5;241m.\u001b[39mTrace(\n\u001b[0;32m   1378\u001b[0m     \u001b[38;5;124m'\u001b[39m\u001b[38;5;124mtrain\u001b[39m\u001b[38;5;124m'\u001b[39m,\n\u001b[0;32m   1379\u001b[0m     epoch_num\u001b[38;5;241m=\u001b[39mepoch,\n\u001b[0;32m   1380\u001b[0m     step_num\u001b[38;5;241m=\u001b[39mstep,\n\u001b[0;32m   1381\u001b[0m     batch_size\u001b[38;5;241m=\u001b[39mbatch_size,\n\u001b[0;32m   1382\u001b[0m     _r\u001b[38;5;241m=\u001b[39m\u001b[38;5;241m1\u001b[39m):\n\u001b[0;32m   1383\u001b[0m   callbacks\u001b[38;5;241m.\u001b[39mon_train_batch_begin(step)\n\u001b[1;32m-> 1384\u001b[0m   tmp_logs \u001b[38;5;241m=\u001b[39m \u001b[38;5;28;43mself\u001b[39;49m\u001b[38;5;241;43m.\u001b[39;49m\u001b[43mtrain_function\u001b[49m\u001b[43m(\u001b[49m\u001b[43miterator\u001b[49m\u001b[43m)\u001b[49m\n\u001b[0;32m   1385\u001b[0m   \u001b[38;5;28;01mif\u001b[39;00m data_handler\u001b[38;5;241m.\u001b[39mshould_sync:\n\u001b[0;32m   1386\u001b[0m     context\u001b[38;5;241m.\u001b[39masync_wait()\n",
      "File \u001b[1;32m~\\Anaconda3\\lib\\site-packages\\tensorflow\\python\\util\\traceback_utils.py:150\u001b[0m, in \u001b[0;36mfilter_traceback.<locals>.error_handler\u001b[1;34m(*args, **kwargs)\u001b[0m\n\u001b[0;32m    148\u001b[0m filtered_tb \u001b[38;5;241m=\u001b[39m \u001b[38;5;28;01mNone\u001b[39;00m\n\u001b[0;32m    149\u001b[0m \u001b[38;5;28;01mtry\u001b[39;00m:\n\u001b[1;32m--> 150\u001b[0m   \u001b[38;5;28;01mreturn\u001b[39;00m \u001b[43mfn\u001b[49m\u001b[43m(\u001b[49m\u001b[38;5;241;43m*\u001b[39;49m\u001b[43margs\u001b[49m\u001b[43m,\u001b[49m\u001b[43m \u001b[49m\u001b[38;5;241;43m*\u001b[39;49m\u001b[38;5;241;43m*\u001b[39;49m\u001b[43mkwargs\u001b[49m\u001b[43m)\u001b[49m\n\u001b[0;32m    151\u001b[0m \u001b[38;5;28;01mexcept\u001b[39;00m \u001b[38;5;167;01mException\u001b[39;00m \u001b[38;5;28;01mas\u001b[39;00m e:\n\u001b[0;32m    152\u001b[0m   filtered_tb \u001b[38;5;241m=\u001b[39m _process_traceback_frames(e\u001b[38;5;241m.\u001b[39m__traceback__)\n",
      "File \u001b[1;32m~\\Anaconda3\\lib\\site-packages\\tensorflow\\python\\eager\\def_function.py:915\u001b[0m, in \u001b[0;36mFunction.__call__\u001b[1;34m(self, *args, **kwds)\u001b[0m\n\u001b[0;32m    912\u001b[0m compiler \u001b[38;5;241m=\u001b[39m \u001b[38;5;124m\"\u001b[39m\u001b[38;5;124mxla\u001b[39m\u001b[38;5;124m\"\u001b[39m \u001b[38;5;28;01mif\u001b[39;00m \u001b[38;5;28mself\u001b[39m\u001b[38;5;241m.\u001b[39m_jit_compile \u001b[38;5;28;01melse\u001b[39;00m \u001b[38;5;124m\"\u001b[39m\u001b[38;5;124mnonXla\u001b[39m\u001b[38;5;124m\"\u001b[39m\n\u001b[0;32m    914\u001b[0m \u001b[38;5;28;01mwith\u001b[39;00m OptionalXlaContext(\u001b[38;5;28mself\u001b[39m\u001b[38;5;241m.\u001b[39m_jit_compile):\n\u001b[1;32m--> 915\u001b[0m   result \u001b[38;5;241m=\u001b[39m \u001b[38;5;28;43mself\u001b[39;49m\u001b[38;5;241;43m.\u001b[39;49m\u001b[43m_call\u001b[49m\u001b[43m(\u001b[49m\u001b[38;5;241;43m*\u001b[39;49m\u001b[43margs\u001b[49m\u001b[43m,\u001b[49m\u001b[43m \u001b[49m\u001b[38;5;241;43m*\u001b[39;49m\u001b[38;5;241;43m*\u001b[39;49m\u001b[43mkwds\u001b[49m\u001b[43m)\u001b[49m\n\u001b[0;32m    917\u001b[0m new_tracing_count \u001b[38;5;241m=\u001b[39m \u001b[38;5;28mself\u001b[39m\u001b[38;5;241m.\u001b[39mexperimental_get_tracing_count()\n\u001b[0;32m    918\u001b[0m without_tracing \u001b[38;5;241m=\u001b[39m (tracing_count \u001b[38;5;241m==\u001b[39m new_tracing_count)\n",
      "File \u001b[1;32m~\\Anaconda3\\lib\\site-packages\\tensorflow\\python\\eager\\def_function.py:947\u001b[0m, in \u001b[0;36mFunction._call\u001b[1;34m(self, *args, **kwds)\u001b[0m\n\u001b[0;32m    944\u001b[0m   \u001b[38;5;28mself\u001b[39m\u001b[38;5;241m.\u001b[39m_lock\u001b[38;5;241m.\u001b[39mrelease()\n\u001b[0;32m    945\u001b[0m   \u001b[38;5;66;03m# In this case we have created variables on the first call, so we run the\u001b[39;00m\n\u001b[0;32m    946\u001b[0m   \u001b[38;5;66;03m# defunned version which is guaranteed to never create variables.\u001b[39;00m\n\u001b[1;32m--> 947\u001b[0m   \u001b[38;5;28;01mreturn\u001b[39;00m \u001b[38;5;28;43mself\u001b[39;49m\u001b[38;5;241;43m.\u001b[39;49m\u001b[43m_stateless_fn\u001b[49m\u001b[43m(\u001b[49m\u001b[38;5;241;43m*\u001b[39;49m\u001b[43margs\u001b[49m\u001b[43m,\u001b[49m\u001b[43m \u001b[49m\u001b[38;5;241;43m*\u001b[39;49m\u001b[38;5;241;43m*\u001b[39;49m\u001b[43mkwds\u001b[49m\u001b[43m)\u001b[49m  \u001b[38;5;66;03m# pylint: disable=not-callable\u001b[39;00m\n\u001b[0;32m    948\u001b[0m \u001b[38;5;28;01melif\u001b[39;00m \u001b[38;5;28mself\u001b[39m\u001b[38;5;241m.\u001b[39m_stateful_fn \u001b[38;5;129;01mis\u001b[39;00m \u001b[38;5;129;01mnot\u001b[39;00m \u001b[38;5;28;01mNone\u001b[39;00m:\n\u001b[0;32m    949\u001b[0m   \u001b[38;5;66;03m# Release the lock early so that multiple threads can perform the call\u001b[39;00m\n\u001b[0;32m    950\u001b[0m   \u001b[38;5;66;03m# in parallel.\u001b[39;00m\n\u001b[0;32m    951\u001b[0m   \u001b[38;5;28mself\u001b[39m\u001b[38;5;241m.\u001b[39m_lock\u001b[38;5;241m.\u001b[39mrelease()\n",
      "File \u001b[1;32m~\\Anaconda3\\lib\\site-packages\\tensorflow\\python\\eager\\function.py:2956\u001b[0m, in \u001b[0;36mFunction.__call__\u001b[1;34m(self, *args, **kwargs)\u001b[0m\n\u001b[0;32m   2953\u001b[0m \u001b[38;5;28;01mwith\u001b[39;00m \u001b[38;5;28mself\u001b[39m\u001b[38;5;241m.\u001b[39m_lock:\n\u001b[0;32m   2954\u001b[0m   (graph_function,\n\u001b[0;32m   2955\u001b[0m    filtered_flat_args) \u001b[38;5;241m=\u001b[39m \u001b[38;5;28mself\u001b[39m\u001b[38;5;241m.\u001b[39m_maybe_define_function(args, kwargs)\n\u001b[1;32m-> 2956\u001b[0m \u001b[38;5;28;01mreturn\u001b[39;00m \u001b[43mgraph_function\u001b[49m\u001b[38;5;241;43m.\u001b[39;49m\u001b[43m_call_flat\u001b[49m\u001b[43m(\u001b[49m\n\u001b[0;32m   2957\u001b[0m \u001b[43m    \u001b[49m\u001b[43mfiltered_flat_args\u001b[49m\u001b[43m,\u001b[49m\u001b[43m \u001b[49m\u001b[43mcaptured_inputs\u001b[49m\u001b[38;5;241;43m=\u001b[39;49m\u001b[43mgraph_function\u001b[49m\u001b[38;5;241;43m.\u001b[39;49m\u001b[43mcaptured_inputs\u001b[49m\u001b[43m)\u001b[49m\n",
      "File \u001b[1;32m~\\Anaconda3\\lib\\site-packages\\tensorflow\\python\\eager\\function.py:1853\u001b[0m, in \u001b[0;36mConcreteFunction._call_flat\u001b[1;34m(self, args, captured_inputs, cancellation_manager)\u001b[0m\n\u001b[0;32m   1849\u001b[0m possible_gradient_type \u001b[38;5;241m=\u001b[39m gradients_util\u001b[38;5;241m.\u001b[39mPossibleTapeGradientTypes(args)\n\u001b[0;32m   1850\u001b[0m \u001b[38;5;28;01mif\u001b[39;00m (possible_gradient_type \u001b[38;5;241m==\u001b[39m gradients_util\u001b[38;5;241m.\u001b[39mPOSSIBLE_GRADIENT_TYPES_NONE\n\u001b[0;32m   1851\u001b[0m     \u001b[38;5;129;01mand\u001b[39;00m executing_eagerly):\n\u001b[0;32m   1852\u001b[0m   \u001b[38;5;66;03m# No tape is watching; skip to running the function.\u001b[39;00m\n\u001b[1;32m-> 1853\u001b[0m   \u001b[38;5;28;01mreturn\u001b[39;00m \u001b[38;5;28mself\u001b[39m\u001b[38;5;241m.\u001b[39m_build_call_outputs(\u001b[38;5;28;43mself\u001b[39;49m\u001b[38;5;241;43m.\u001b[39;49m\u001b[43m_inference_function\u001b[49m\u001b[38;5;241;43m.\u001b[39;49m\u001b[43mcall\u001b[49m\u001b[43m(\u001b[49m\n\u001b[0;32m   1854\u001b[0m \u001b[43m      \u001b[49m\u001b[43mctx\u001b[49m\u001b[43m,\u001b[49m\u001b[43m \u001b[49m\u001b[43margs\u001b[49m\u001b[43m,\u001b[49m\u001b[43m \u001b[49m\u001b[43mcancellation_manager\u001b[49m\u001b[38;5;241;43m=\u001b[39;49m\u001b[43mcancellation_manager\u001b[49m\u001b[43m)\u001b[49m)\n\u001b[0;32m   1855\u001b[0m forward_backward \u001b[38;5;241m=\u001b[39m \u001b[38;5;28mself\u001b[39m\u001b[38;5;241m.\u001b[39m_select_forward_and_backward_functions(\n\u001b[0;32m   1856\u001b[0m     args,\n\u001b[0;32m   1857\u001b[0m     possible_gradient_type,\n\u001b[0;32m   1858\u001b[0m     executing_eagerly)\n\u001b[0;32m   1859\u001b[0m forward_function, args_with_tangents \u001b[38;5;241m=\u001b[39m forward_backward\u001b[38;5;241m.\u001b[39mforward()\n",
      "File \u001b[1;32m~\\Anaconda3\\lib\\site-packages\\tensorflow\\python\\eager\\function.py:499\u001b[0m, in \u001b[0;36m_EagerDefinedFunction.call\u001b[1;34m(self, ctx, args, cancellation_manager)\u001b[0m\n\u001b[0;32m    497\u001b[0m \u001b[38;5;28;01mwith\u001b[39;00m _InterpolateFunctionError(\u001b[38;5;28mself\u001b[39m):\n\u001b[0;32m    498\u001b[0m   \u001b[38;5;28;01mif\u001b[39;00m cancellation_manager \u001b[38;5;129;01mis\u001b[39;00m \u001b[38;5;28;01mNone\u001b[39;00m:\n\u001b[1;32m--> 499\u001b[0m     outputs \u001b[38;5;241m=\u001b[39m \u001b[43mexecute\u001b[49m\u001b[38;5;241;43m.\u001b[39;49m\u001b[43mexecute\u001b[49m\u001b[43m(\u001b[49m\n\u001b[0;32m    500\u001b[0m \u001b[43m        \u001b[49m\u001b[38;5;28;43mstr\u001b[39;49m\u001b[43m(\u001b[49m\u001b[38;5;28;43mself\u001b[39;49m\u001b[38;5;241;43m.\u001b[39;49m\u001b[43msignature\u001b[49m\u001b[38;5;241;43m.\u001b[39;49m\u001b[43mname\u001b[49m\u001b[43m)\u001b[49m\u001b[43m,\u001b[49m\n\u001b[0;32m    501\u001b[0m \u001b[43m        \u001b[49m\u001b[43mnum_outputs\u001b[49m\u001b[38;5;241;43m=\u001b[39;49m\u001b[38;5;28;43mself\u001b[39;49m\u001b[38;5;241;43m.\u001b[39;49m\u001b[43m_num_outputs\u001b[49m\u001b[43m,\u001b[49m\n\u001b[0;32m    502\u001b[0m \u001b[43m        \u001b[49m\u001b[43minputs\u001b[49m\u001b[38;5;241;43m=\u001b[39;49m\u001b[43margs\u001b[49m\u001b[43m,\u001b[49m\n\u001b[0;32m    503\u001b[0m \u001b[43m        \u001b[49m\u001b[43mattrs\u001b[49m\u001b[38;5;241;43m=\u001b[39;49m\u001b[43mattrs\u001b[49m\u001b[43m,\u001b[49m\n\u001b[0;32m    504\u001b[0m \u001b[43m        \u001b[49m\u001b[43mctx\u001b[49m\u001b[38;5;241;43m=\u001b[39;49m\u001b[43mctx\u001b[49m\u001b[43m)\u001b[49m\n\u001b[0;32m    505\u001b[0m   \u001b[38;5;28;01melse\u001b[39;00m:\n\u001b[0;32m    506\u001b[0m     outputs \u001b[38;5;241m=\u001b[39m execute\u001b[38;5;241m.\u001b[39mexecute_with_cancellation(\n\u001b[0;32m    507\u001b[0m         \u001b[38;5;28mstr\u001b[39m(\u001b[38;5;28mself\u001b[39m\u001b[38;5;241m.\u001b[39msignature\u001b[38;5;241m.\u001b[39mname),\n\u001b[0;32m    508\u001b[0m         num_outputs\u001b[38;5;241m=\u001b[39m\u001b[38;5;28mself\u001b[39m\u001b[38;5;241m.\u001b[39m_num_outputs,\n\u001b[1;32m   (...)\u001b[0m\n\u001b[0;32m    511\u001b[0m         ctx\u001b[38;5;241m=\u001b[39mctx,\n\u001b[0;32m    512\u001b[0m         cancellation_manager\u001b[38;5;241m=\u001b[39mcancellation_manager)\n",
      "File \u001b[1;32m~\\Anaconda3\\lib\\site-packages\\tensorflow\\python\\eager\\execute.py:54\u001b[0m, in \u001b[0;36mquick_execute\u001b[1;34m(op_name, num_outputs, inputs, attrs, ctx, name)\u001b[0m\n\u001b[0;32m     52\u001b[0m \u001b[38;5;28;01mtry\u001b[39;00m:\n\u001b[0;32m     53\u001b[0m   ctx\u001b[38;5;241m.\u001b[39mensure_initialized()\n\u001b[1;32m---> 54\u001b[0m   tensors \u001b[38;5;241m=\u001b[39m \u001b[43mpywrap_tfe\u001b[49m\u001b[38;5;241;43m.\u001b[39;49m\u001b[43mTFE_Py_Execute\u001b[49m\u001b[43m(\u001b[49m\u001b[43mctx\u001b[49m\u001b[38;5;241;43m.\u001b[39;49m\u001b[43m_handle\u001b[49m\u001b[43m,\u001b[49m\u001b[43m \u001b[49m\u001b[43mdevice_name\u001b[49m\u001b[43m,\u001b[49m\u001b[43m \u001b[49m\u001b[43mop_name\u001b[49m\u001b[43m,\u001b[49m\n\u001b[0;32m     55\u001b[0m \u001b[43m                                      \u001b[49m\u001b[43minputs\u001b[49m\u001b[43m,\u001b[49m\u001b[43m \u001b[49m\u001b[43mattrs\u001b[49m\u001b[43m,\u001b[49m\u001b[43m \u001b[49m\u001b[43mnum_outputs\u001b[49m\u001b[43m)\u001b[49m\n\u001b[0;32m     56\u001b[0m \u001b[38;5;28;01mexcept\u001b[39;00m core\u001b[38;5;241m.\u001b[39m_NotOkStatusException \u001b[38;5;28;01mas\u001b[39;00m e:\n\u001b[0;32m     57\u001b[0m   \u001b[38;5;28;01mif\u001b[39;00m name \u001b[38;5;129;01mis\u001b[39;00m \u001b[38;5;129;01mnot\u001b[39;00m \u001b[38;5;28;01mNone\u001b[39;00m:\n",
      "\u001b[1;31mKeyboardInterrupt\u001b[0m: "
     ]
    }
   ],
   "source": [
    "model.fit(X_train, y_train, epochs=30, validation_data=(X_test, y_test))"
   ]
  },
  {
   "cell_type": "code",
   "execution_count": 88,
   "id": "3ab5b5d5",
   "metadata": {},
   "outputs": [],
   "source": [
    "pred = model.predict(X_test)"
   ]
  },
  {
   "cell_type": "code",
   "execution_count": 89,
   "id": "bcf6c02c",
   "metadata": {},
   "outputs": [],
   "source": [
    "real_pred = []\n",
    "for i in pred:\n",
    "    real_pred.append(1 if i > 0.5 else 0)"
   ]
  },
  {
   "cell_type": "code",
   "execution_count": 90,
   "id": "75acf022",
   "metadata": {},
   "outputs": [],
   "source": [
    "from sklearn.metrics import accuracy_score"
   ]
  },
  {
   "cell_type": "code",
   "execution_count": 91,
   "id": "64b1a1de",
   "metadata": {},
   "outputs": [
    {
     "data": {
      "text/plain": [
       "0.4926895848720839"
      ]
     },
     "execution_count": 91,
     "metadata": {},
     "output_type": "execute_result"
    }
   ],
   "source": [
    "accuracy_score(real_pred, y_test)"
   ]
  },
  {
   "cell_type": "markdown",
   "id": "a4aee8df",
   "metadata": {},
   "source": [
    "### Evaluating Model"
   ]
  },
  {
   "cell_type": "code",
   "execution_count": 92,
   "id": "e4516939",
   "metadata": {},
   "outputs": [],
   "source": [
    "def evaluate(test_data, padded, model):\n",
    "    days = []\n",
    "    correct_proportion = []\n",
    "    pred_sum = []\n",
    "    \n",
    "    for date in test_data.Date.unique():\n",
    "        days.append(date)\n",
    "        \n",
    "        day = test_data[test_data[\"Date\"] == date]\n",
    "                \n",
    "        day_padded = padded[day.index[0]:day.index[-1]+1]\n",
    "        \n",
    "        pred = model.predict(day_padded)\n",
    "        \n",
    "        real_pred = []\n",
    "        for i in pred:\n",
    "            real_pred.append(1 if i > 0.5 else 0)\n",
    "            \n",
    "        exp = list(day[\"Positive_Change\"])[0]\n",
    "        pred_sum.append(sum(real_pred))\n",
    "        correct_count = 0\n",
    "        for i in real_pred:\n",
    "            if(i == exp):\n",
    "                correct_count += 1\n",
    "        correct_proportion.append(correct_count/len(real_pred))\n",
    "    return pd.DataFrame({\"Date\":days, \"Correct_Proportion\":correct_proportion, \"Prediction_Sum\":pred_sum})"
   ]
  },
  {
   "cell_type": "code",
   "execution_count": 97,
   "id": "fd5a1e72",
   "metadata": {},
   "outputs": [
    {
     "ename": "KeyboardInterrupt",
     "evalue": "",
     "output_type": "error",
     "traceback": [
      "\u001b[1;31m---------------------------------------------------------------------------\u001b[0m",
      "\u001b[1;31mKeyboardInterrupt\u001b[0m                         Traceback (most recent call last)",
      "Input \u001b[1;32mIn [97]\u001b[0m, in \u001b[0;36m<cell line: 1>\u001b[1;34m()\u001b[0m\n\u001b[1;32m----> 1\u001b[0m results \u001b[38;5;241m=\u001b[39m \u001b[43mevaluate\u001b[49m\u001b[43m(\u001b[49m\u001b[43munioned_test_data\u001b[49m\u001b[43m,\u001b[49m\u001b[43m \u001b[49m\u001b[43mX_test\u001b[49m\u001b[43m,\u001b[49m\u001b[43m \u001b[49m\u001b[43mmodel\u001b[49m\u001b[43m)\u001b[49m\n\u001b[0;32m      2\u001b[0m results\n",
      "Input \u001b[1;32mIn [92]\u001b[0m, in \u001b[0;36mevaluate\u001b[1;34m(test_data, padded, model)\u001b[0m\n\u001b[0;32m      9\u001b[0m day \u001b[38;5;241m=\u001b[39m test_data[test_data[\u001b[38;5;124m\"\u001b[39m\u001b[38;5;124mDate\u001b[39m\u001b[38;5;124m\"\u001b[39m] \u001b[38;5;241m==\u001b[39m date]\n\u001b[0;32m     11\u001b[0m day_padded \u001b[38;5;241m=\u001b[39m padded[day\u001b[38;5;241m.\u001b[39mindex[\u001b[38;5;241m0\u001b[39m]:day\u001b[38;5;241m.\u001b[39mindex[\u001b[38;5;241m-\u001b[39m\u001b[38;5;241m1\u001b[39m]\u001b[38;5;241m+\u001b[39m\u001b[38;5;241m1\u001b[39m]\n\u001b[1;32m---> 13\u001b[0m pred \u001b[38;5;241m=\u001b[39m \u001b[43mmodel\u001b[49m\u001b[38;5;241;43m.\u001b[39;49m\u001b[43mpredict\u001b[49m\u001b[43m(\u001b[49m\u001b[43mday_padded\u001b[49m\u001b[43m)\u001b[49m\n\u001b[0;32m     15\u001b[0m real_pred \u001b[38;5;241m=\u001b[39m []\n\u001b[0;32m     16\u001b[0m \u001b[38;5;28;01mfor\u001b[39;00m i \u001b[38;5;129;01min\u001b[39;00m pred:\n",
      "File \u001b[1;32m~\\Anaconda3\\lib\\site-packages\\keras\\utils\\traceback_utils.py:64\u001b[0m, in \u001b[0;36mfilter_traceback.<locals>.error_handler\u001b[1;34m(*args, **kwargs)\u001b[0m\n\u001b[0;32m     62\u001b[0m filtered_tb \u001b[38;5;241m=\u001b[39m \u001b[38;5;28;01mNone\u001b[39;00m\n\u001b[0;32m     63\u001b[0m \u001b[38;5;28;01mtry\u001b[39;00m:\n\u001b[1;32m---> 64\u001b[0m   \u001b[38;5;28;01mreturn\u001b[39;00m \u001b[43mfn\u001b[49m\u001b[43m(\u001b[49m\u001b[38;5;241;43m*\u001b[39;49m\u001b[43margs\u001b[49m\u001b[43m,\u001b[49m\u001b[43m \u001b[49m\u001b[38;5;241;43m*\u001b[39;49m\u001b[38;5;241;43m*\u001b[39;49m\u001b[43mkwargs\u001b[49m\u001b[43m)\u001b[49m\n\u001b[0;32m     65\u001b[0m \u001b[38;5;28;01mexcept\u001b[39;00m \u001b[38;5;167;01mException\u001b[39;00m \u001b[38;5;28;01mas\u001b[39;00m e:  \u001b[38;5;66;03m# pylint: disable=broad-except\u001b[39;00m\n\u001b[0;32m     66\u001b[0m   filtered_tb \u001b[38;5;241m=\u001b[39m _process_traceback_frames(e\u001b[38;5;241m.\u001b[39m__traceback__)\n",
      "File \u001b[1;32m~\\Anaconda3\\lib\\site-packages\\keras\\engine\\training.py:1980\u001b[0m, in \u001b[0;36mModel.predict\u001b[1;34m(self, x, batch_size, verbose, steps, callbacks, max_queue_size, workers, use_multiprocessing)\u001b[0m\n\u001b[0;32m   1978\u001b[0m \u001b[38;5;28;01mfor\u001b[39;00m _, iterator \u001b[38;5;129;01min\u001b[39;00m data_handler\u001b[38;5;241m.\u001b[39menumerate_epochs():  \u001b[38;5;66;03m# Single epoch.\u001b[39;00m\n\u001b[0;32m   1979\u001b[0m   \u001b[38;5;28;01mwith\u001b[39;00m data_handler\u001b[38;5;241m.\u001b[39mcatch_stop_iteration():\n\u001b[1;32m-> 1980\u001b[0m     \u001b[38;5;28;01mfor\u001b[39;00m step \u001b[38;5;129;01min\u001b[39;00m data_handler\u001b[38;5;241m.\u001b[39msteps():\n\u001b[0;32m   1981\u001b[0m       callbacks\u001b[38;5;241m.\u001b[39mon_predict_batch_begin(step)\n\u001b[0;32m   1982\u001b[0m       tmp_batch_outputs \u001b[38;5;241m=\u001b[39m \u001b[38;5;28mself\u001b[39m\u001b[38;5;241m.\u001b[39mpredict_function(iterator)\n",
      "File \u001b[1;32m~\\Anaconda3\\lib\\site-packages\\keras\\engine\\data_adapter.py:1246\u001b[0m, in \u001b[0;36mDataHandler.steps\u001b[1;34m(self)\u001b[0m\n\u001b[0;32m   1244\u001b[0m \u001b[38;5;28;01mif\u001b[39;00m \u001b[38;5;28mself\u001b[39m\u001b[38;5;241m.\u001b[39m_insufficient_data:  \u001b[38;5;66;03m# Set by `catch_stop_iteration`.\u001b[39;00m\n\u001b[0;32m   1245\u001b[0m   \u001b[38;5;28;01mbreak\u001b[39;00m\n\u001b[1;32m-> 1246\u001b[0m original_spe \u001b[38;5;241m=\u001b[39m \u001b[38;5;28;43mself\u001b[39;49m\u001b[38;5;241;43m.\u001b[39;49m\u001b[43m_steps_per_execution\u001b[49m\u001b[38;5;241;43m.\u001b[39;49m\u001b[43mnumpy\u001b[49m\u001b[43m(\u001b[49m\u001b[43m)\u001b[49m\u001b[38;5;241m.\u001b[39mitem()\n\u001b[0;32m   1247\u001b[0m can_run_full_execution \u001b[38;5;241m=\u001b[39m (\n\u001b[0;32m   1248\u001b[0m     original_spe \u001b[38;5;241m==\u001b[39m \u001b[38;5;241m1\u001b[39m \u001b[38;5;129;01mor\u001b[39;00m\n\u001b[0;32m   1249\u001b[0m     \u001b[38;5;28mself\u001b[39m\u001b[38;5;241m.\u001b[39m_inferred_steps \u001b[38;5;129;01mis\u001b[39;00m \u001b[38;5;28;01mNone\u001b[39;00m \u001b[38;5;129;01mor\u001b[39;00m\n\u001b[0;32m   1250\u001b[0m     \u001b[38;5;28mself\u001b[39m\u001b[38;5;241m.\u001b[39m_inferred_steps \u001b[38;5;241m-\u001b[39m \u001b[38;5;28mself\u001b[39m\u001b[38;5;241m.\u001b[39m_current_step \u001b[38;5;241m>\u001b[39m\u001b[38;5;241m=\u001b[39m\n\u001b[0;32m   1251\u001b[0m     original_spe)\n\u001b[0;32m   1253\u001b[0m \u001b[38;5;28;01mif\u001b[39;00m can_run_full_execution:\n",
      "File \u001b[1;32m~\\Anaconda3\\lib\\site-packages\\tensorflow\\python\\ops\\resource_variable_ops.py:674\u001b[0m, in \u001b[0;36mBaseResourceVariable.numpy\u001b[1;34m(self)\u001b[0m\n\u001b[0;32m    672\u001b[0m \u001b[38;5;28;01mdef\u001b[39;00m \u001b[38;5;21mnumpy\u001b[39m(\u001b[38;5;28mself\u001b[39m):\n\u001b[0;32m    673\u001b[0m   \u001b[38;5;28;01mif\u001b[39;00m context\u001b[38;5;241m.\u001b[39mexecuting_eagerly():\n\u001b[1;32m--> 674\u001b[0m     \u001b[38;5;28;01mreturn\u001b[39;00m \u001b[38;5;28;43mself\u001b[39;49m\u001b[38;5;241;43m.\u001b[39;49m\u001b[43mread_value\u001b[49m\u001b[43m(\u001b[49m\u001b[43m)\u001b[49m\u001b[38;5;241m.\u001b[39mnumpy()\n\u001b[0;32m    675\u001b[0m   \u001b[38;5;28;01mraise\u001b[39;00m \u001b[38;5;167;01mNotImplementedError\u001b[39;00m(\n\u001b[0;32m    676\u001b[0m       \u001b[38;5;124m\"\u001b[39m\u001b[38;5;124mnumpy() is only available when eager execution is enabled.\u001b[39m\u001b[38;5;124m\"\u001b[39m)\n",
      "File \u001b[1;32m~\\Anaconda3\\lib\\site-packages\\tensorflow\\python\\ops\\resource_variable_ops.py:749\u001b[0m, in \u001b[0;36mBaseResourceVariable.read_value\u001b[1;34m(self)\u001b[0m\n\u001b[0;32m    740\u001b[0m \u001b[38;5;124;03m\"\"\"Constructs an op which reads the value of this variable.\u001b[39;00m\n\u001b[0;32m    741\u001b[0m \n\u001b[0;32m    742\u001b[0m \u001b[38;5;124;03mShould be used when there are multiple reads, or when it is desirable to\u001b[39;00m\n\u001b[1;32m   (...)\u001b[0m\n\u001b[0;32m    746\u001b[0m \u001b[38;5;124;03m the read operation.\u001b[39;00m\n\u001b[0;32m    747\u001b[0m \u001b[38;5;124;03m\"\"\"\u001b[39;00m\n\u001b[0;32m    748\u001b[0m \u001b[38;5;28;01mwith\u001b[39;00m ops\u001b[38;5;241m.\u001b[39mname_scope(\u001b[38;5;124m\"\u001b[39m\u001b[38;5;124mRead\u001b[39m\u001b[38;5;124m\"\u001b[39m):\n\u001b[1;32m--> 749\u001b[0m   value \u001b[38;5;241m=\u001b[39m \u001b[38;5;28;43mself\u001b[39;49m\u001b[38;5;241;43m.\u001b[39;49m\u001b[43m_read_variable_op\u001b[49m\u001b[43m(\u001b[49m\u001b[43m)\u001b[49m\n\u001b[0;32m    750\u001b[0m \u001b[38;5;66;03m# Return an identity so it can get placed on whatever device the context\u001b[39;00m\n\u001b[0;32m    751\u001b[0m \u001b[38;5;66;03m# specifies instead of the device where the variable is.\u001b[39;00m\n\u001b[0;32m    752\u001b[0m \u001b[38;5;28;01mreturn\u001b[39;00m array_ops\u001b[38;5;241m.\u001b[39midentity(value)\n",
      "File \u001b[1;32m~\\Anaconda3\\lib\\site-packages\\tensorflow\\python\\ops\\resource_variable_ops.py:728\u001b[0m, in \u001b[0;36mBaseResourceVariable._read_variable_op\u001b[1;34m(self)\u001b[0m\n\u001b[0;32m    726\u001b[0m       result \u001b[38;5;241m=\u001b[39m read_and_set_handle()\n\u001b[0;32m    727\u001b[0m \u001b[38;5;28;01melse\u001b[39;00m:\n\u001b[1;32m--> 728\u001b[0m   result \u001b[38;5;241m=\u001b[39m \u001b[43mread_and_set_handle\u001b[49m\u001b[43m(\u001b[49m\u001b[43m)\u001b[49m\n\u001b[0;32m    730\u001b[0m \u001b[38;5;28;01mif\u001b[39;00m \u001b[38;5;129;01mnot\u001b[39;00m context\u001b[38;5;241m.\u001b[39mexecuting_eagerly():\n\u001b[0;32m    731\u001b[0m   \u001b[38;5;66;03m# Note that if a control flow context is active the input of the read op\u001b[39;00m\n\u001b[0;32m    732\u001b[0m   \u001b[38;5;66;03m# might not actually be the handle. This line bypasses it.\u001b[39;00m\n\u001b[0;32m    733\u001b[0m   tape\u001b[38;5;241m.\u001b[39mrecord_operation(\n\u001b[0;32m    734\u001b[0m       \u001b[38;5;124m\"\u001b[39m\u001b[38;5;124mReadVariableOp\u001b[39m\u001b[38;5;124m\"\u001b[39m, [result], [\u001b[38;5;28mself\u001b[39m\u001b[38;5;241m.\u001b[39mhandle],\n\u001b[0;32m    735\u001b[0m       backward_function\u001b[38;5;241m=\u001b[39m\u001b[38;5;28;01mlambda\u001b[39;00m x: [x],\n\u001b[0;32m    736\u001b[0m       forward_function\u001b[38;5;241m=\u001b[39m\u001b[38;5;28;01mlambda\u001b[39;00m x: [x])\n",
      "File \u001b[1;32m~\\Anaconda3\\lib\\site-packages\\tensorflow\\python\\ops\\resource_variable_ops.py:718\u001b[0m, in \u001b[0;36mBaseResourceVariable._read_variable_op.<locals>.read_and_set_handle\u001b[1;34m()\u001b[0m\n\u001b[0;32m    717\u001b[0m \u001b[38;5;28;01mdef\u001b[39;00m \u001b[38;5;21mread_and_set_handle\u001b[39m():\n\u001b[1;32m--> 718\u001b[0m   result \u001b[38;5;241m=\u001b[39m \u001b[43mgen_resource_variable_ops\u001b[49m\u001b[38;5;241;43m.\u001b[39;49m\u001b[43mread_variable_op\u001b[49m\u001b[43m(\u001b[49m\n\u001b[0;32m    719\u001b[0m \u001b[43m      \u001b[49m\u001b[38;5;28;43mself\u001b[39;49m\u001b[38;5;241;43m.\u001b[39;49m\u001b[43mhandle\u001b[49m\u001b[43m,\u001b[49m\u001b[43m \u001b[49m\u001b[38;5;28;43mself\u001b[39;49m\u001b[38;5;241;43m.\u001b[39;49m\u001b[43m_dtype\u001b[49m\u001b[43m)\u001b[49m\n\u001b[0;32m    720\u001b[0m   _maybe_set_handle_data(\u001b[38;5;28mself\u001b[39m\u001b[38;5;241m.\u001b[39m_dtype, \u001b[38;5;28mself\u001b[39m\u001b[38;5;241m.\u001b[39mhandle, result)\n\u001b[0;32m    721\u001b[0m   \u001b[38;5;28;01mreturn\u001b[39;00m result\n",
      "File \u001b[1;32m~\\Anaconda3\\lib\\site-packages\\tensorflow\\python\\ops\\gen_resource_variable_ops.py:478\u001b[0m, in \u001b[0;36mread_variable_op\u001b[1;34m(resource, dtype, name)\u001b[0m\n\u001b[0;32m    476\u001b[0m \u001b[38;5;28;01mif\u001b[39;00m tld\u001b[38;5;241m.\u001b[39mis_eager:\n\u001b[0;32m    477\u001b[0m   \u001b[38;5;28;01mtry\u001b[39;00m:\n\u001b[1;32m--> 478\u001b[0m     _result \u001b[38;5;241m=\u001b[39m \u001b[43mpywrap_tfe\u001b[49m\u001b[38;5;241;43m.\u001b[39;49m\u001b[43mTFE_Py_FastPathExecute\u001b[49m\u001b[43m(\u001b[49m\n\u001b[0;32m    479\u001b[0m \u001b[43m      \u001b[49m\u001b[43m_ctx\u001b[49m\u001b[43m,\u001b[49m\u001b[43m \u001b[49m\u001b[38;5;124;43m\"\u001b[39;49m\u001b[38;5;124;43mReadVariableOp\u001b[39;49m\u001b[38;5;124;43m\"\u001b[39;49m\u001b[43m,\u001b[49m\u001b[43m \u001b[49m\u001b[43mname\u001b[49m\u001b[43m,\u001b[49m\u001b[43m \u001b[49m\u001b[43mresource\u001b[49m\u001b[43m,\u001b[49m\u001b[43m \u001b[49m\u001b[38;5;124;43m\"\u001b[39;49m\u001b[38;5;124;43mdtype\u001b[39;49m\u001b[38;5;124;43m\"\u001b[39;49m\u001b[43m,\u001b[49m\u001b[43m \u001b[49m\u001b[43mdtype\u001b[49m\u001b[43m)\u001b[49m\n\u001b[0;32m    480\u001b[0m     \u001b[38;5;28;01mreturn\u001b[39;00m _result\n\u001b[0;32m    481\u001b[0m   \u001b[38;5;28;01mexcept\u001b[39;00m _core\u001b[38;5;241m.\u001b[39m_NotOkStatusException \u001b[38;5;28;01mas\u001b[39;00m e:\n",
      "\u001b[1;31mKeyboardInterrupt\u001b[0m: "
     ]
    }
   ],
   "source": [
    "results = evaluate(unioned_test_data, X_test, model)\n",
    "results"
   ]
  },
  {
   "cell_type": "code",
   "execution_count": null,
   "id": "15673500",
   "metadata": {},
   "outputs": [],
   "source": [
    "results.Correct_Proportion.hist()"
   ]
  },
  {
   "cell_type": "code",
   "execution_count": null,
   "id": "7b16bca3",
   "metadata": {},
   "outputs": [],
   "source": []
  }
 ],
 "metadata": {
  "kernelspec": {
   "display_name": "Python 3",
   "language": "python",
   "name": "python3"
  },
  "language_info": {
   "codemirror_mode": {
    "name": "ipython",
    "version": 3
   },
   "file_extension": ".py",
   "mimetype": "text/x-python",
   "name": "python",
   "nbconvert_exporter": "python",
   "pygments_lexer": "ipython3",
   "version": "3.8.13"
  }
 },
 "nbformat": 4,
 "nbformat_minor": 5
}
